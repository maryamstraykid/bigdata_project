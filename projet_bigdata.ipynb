{
  "nbformat": 4,
  "nbformat_minor": 0,
  "metadata": {
    "colab": {
      "provenance": [],
      "include_colab_link": true
    },
    "kernelspec": {
      "name": "python3",
      "display_name": "Python 3"
    },
    "language_info": {
      "name": "python"
    }
  },
  "cells": [
    {
      "cell_type": "markdown",
      "metadata": {
        "id": "view-in-github",
        "colab_type": "text"
      },
      "source": [
        "<a href=\"https://colab.research.google.com/github/maryamstraykid/bigdata_project/blob/main/projet_bigdata.ipynb\" target=\"_parent\"><img src=\"https://colab.research.google.com/assets/colab-badge.svg\" alt=\"Open In Colab\"/></a>"
      ]
    },
    {
      "cell_type": "code",
      "execution_count": null,
      "metadata": {
        "colab": {
          "base_uri": "https://localhost:8080/"
        },
        "id": "nwsiICpbJx0P",
        "outputId": "a3445129-4412-4ea7-9af8-657e8abd609b"
      },
      "outputs": [
        {
          "output_type": "stream",
          "name": "stdout",
          "text": [
            "Looking in indexes: https://pypi.org/simple, https://us-python.pkg.dev/colab-wheels/public/simple/\n",
            "Collecting pyspark\n",
            "  Downloading pyspark-3.3.1.tar.gz (281.4 MB)\n",
            "\u001b[2K     \u001b[90m━━━━━━━━━━━━━━━━━━━━━━━━━━━━━━━━━━━━━━━\u001b[0m \u001b[32m281.4/281.4 MB\u001b[0m \u001b[31m4.1 MB/s\u001b[0m eta \u001b[36m0:00:00\u001b[0m\n",
            "\u001b[?25h  Preparing metadata (setup.py) ... \u001b[?25l\u001b[?25hdone\n",
            "Collecting py4j==0.10.9.5\n",
            "  Downloading py4j-0.10.9.5-py2.py3-none-any.whl (199 kB)\n",
            "\u001b[2K     \u001b[90m━━━━━━━━━━━━━━━━━━━━━━━━━━━━━━━━━━━━━━\u001b[0m \u001b[32m199.7/199.7 KB\u001b[0m \u001b[31m21.6 MB/s\u001b[0m eta \u001b[36m0:00:00\u001b[0m\n",
            "\u001b[?25hBuilding wheels for collected packages: pyspark\n",
            "  Building wheel for pyspark (setup.py) ... \u001b[?25l\u001b[?25hdone\n",
            "  Created wheel for pyspark: filename=pyspark-3.3.1-py2.py3-none-any.whl size=281845512 sha256=c63e6f3acc63076d9af9c0c2a3512d4c404b9c80c132dcb6b82579860a1771a1\n",
            "  Stored in directory: /root/.cache/pip/wheels/43/dc/11/ec201cd671da62fa9c5cc77078235e40722170ceba231d7598\n",
            "Successfully built pyspark\n",
            "Installing collected packages: py4j, pyspark\n",
            "Successfully installed py4j-0.10.9.5 pyspark-3.3.1\n"
          ]
        }
      ],
      "source": [
        "#installation de la biblithéqe pyspark\n",
        "!pip3 install pyspark"
      ]
    },
    {
      "cell_type": "code",
      "source": [
        "from pyspark.context import SparkContext\n",
        "#creation of SparkContext\n",
        "sc = SparkContext.getOrCreate()"
      ],
      "metadata": {
        "id": "LNbri1CqJ91U"
      },
      "execution_count": null,
      "outputs": []
    },
    {
      "cell_type": "code",
      "source": [
        "from pyspark.sql import SparkSession\n",
        "#creation of SparkSession\n",
        "spark = SparkSession.builder.appName(\"commentaire hespress\").getOrCreate()"
      ],
      "metadata": {
        "id": "d3jn-mEaKKyP"
      },
      "execution_count": null,
      "outputs": []
    },
    {
      "cell_type": "code",
      "source": [
        "spark"
      ],
      "metadata": {
        "colab": {
          "base_uri": "https://localhost:8080/",
          "height": 219
        },
        "id": "TFmEx0AdKciq",
        "outputId": "2ced1e67-7067-4bde-9689-3b8532714111"
      },
      "execution_count": null,
      "outputs": [
        {
          "output_type": "execute_result",
          "data": {
            "text/plain": [
              "<pyspark.sql.session.SparkSession at 0x7f9c0c689c10>"
            ],
            "text/html": [
              "\n",
              "            <div>\n",
              "                <p><b>SparkSession - in-memory</b></p>\n",
              "                \n",
              "        <div>\n",
              "            <p><b>SparkContext</b></p>\n",
              "\n",
              "            <p><a href=\"http://f15e4585ac72:4040\">Spark UI</a></p>\n",
              "\n",
              "            <dl>\n",
              "              <dt>Version</dt>\n",
              "                <dd><code>v3.3.1</code></dd>\n",
              "              <dt>Master</dt>\n",
              "                <dd><code>local[*]</code></dd>\n",
              "              <dt>AppName</dt>\n",
              "                <dd><code>pyspark-shell</code></dd>\n",
              "            </dl>\n",
              "        </div>\n",
              "        \n",
              "            </div>\n",
              "        "
            ]
          },
          "metadata": {},
          "execution_count": 16
        }
      ]
    },
    {
      "cell_type": "code",
      "source": [
        "from google.colab import drive\n",
        "drive.mount('/content/gdrive')"
      ],
      "metadata": {
        "colab": {
          "base_uri": "https://localhost:8080/"
        },
        "id": "7OVIxMSFKTLV",
        "outputId": "800a1e4c-2f47-4c3a-d952-696de78dac94"
      },
      "execution_count": null,
      "outputs": [
        {
          "output_type": "stream",
          "name": "stdout",
          "text": [
            "Mounted at /content/gdrive\n"
          ]
        }
      ]
    },
    {
      "cell_type": "code",
      "source": [
        "#read data and create dataframe\n",
        "commentDF = spark.read.format(\"com.databricks.spark.csv\").option(\"header\", \"true\").option(\"inferSchema\", \"true\").load(\"/content/gdrive/My Drive/données_colab/comments_sport.csv\")"
      ],
      "metadata": {
        "id": "oN8S6UiOKiCA"
      },
      "execution_count": null,
      "outputs": []
    },
    {
      "cell_type": "code",
      "source": [
        "#prints out the schema in the tree format.\n",
        "commentDF.printSchema()"
      ],
      "metadata": {
        "colab": {
          "base_uri": "https://localhost:8080/"
        },
        "id": "DoY_qlSbKrbN",
        "outputId": "ba9acbae-3a6e-4b2e-f7af-d395c5c94a71"
      },
      "execution_count": null,
      "outputs": [
        {
          "output_type": "stream",
          "name": "stdout",
          "text": [
            "root\n",
            " |-- _c0: string (nullable = true)\n",
            " |-- postId: string (nullable = true)\n",
            " |-- comment: string (nullable = true)\n",
            " |-- score: string (nullable = true)\n",
            " |-- topic: string (nullable = true)\n",
            "\n"
          ]
        }
      ]
    },
    {
      "cell_type": "code",
      "source": [
        "#set data types - cast the data in columns to match schema\n",
        "commentDF = commentDF .withColumn(\"postId\", commentDF[\"postId\"].cast(\"string\")) \\\n",
        "  .withColumn(\"comment\", commentDF[\"comment\"].cast(\"string\")) \\\n",
        "  .withColumn(\"score\", commentDF[\"score\"].cast(\"int\")) \\\n",
        "  .withColumn(\"topic\", commentDF[\"topic\"].cast(\"string\"))\n"
      ],
      "metadata": {
        "id": "YErVk5zRL2U0"
      },
      "execution_count": null,
      "outputs": []
    },
    {
      "cell_type": "code",
      "source": [
        "#prints out the new schema\n",
        "commentDF.printSchema()"
      ],
      "metadata": {
        "colab": {
          "base_uri": "https://localhost:8080/"
        },
        "id": "JaJ8eqg0L4Wk",
        "outputId": "3e3a7648-ad64-4762-e990-a5b1b99fcf80"
      },
      "execution_count": null,
      "outputs": [
        {
          "output_type": "stream",
          "name": "stdout",
          "text": [
            "root\n",
            " |-- _c0: string (nullable = true)\n",
            " |-- postId: string (nullable = true)\n",
            " |-- comment: string (nullable = true)\n",
            " |-- score: integer (nullable = true)\n",
            " |-- topic: string (nullable = true)\n",
            "\n"
          ]
        }
      ]
    },
    {
      "cell_type": "code",
      "source": [
        "#showing top 5 rows\n",
        "commentDF.show(5)"
      ],
      "metadata": {
        "colab": {
          "base_uri": "https://localhost:8080/"
        },
        "id": "tTF5XLdSKv7Y",
        "outputId": "60e3182e-0777-432f-9567-1e503678c152"
      },
      "execution_count": null,
      "outputs": [
        {
          "output_type": "stream",
          "name": "stdout",
          "text": [
            "+--------------------+--------------------+--------------------+-----+-----+\n",
            "|                 _c0|              postId|             comment|score|topic|\n",
            "+--------------------+--------------------+--------------------+-----+-----+\n",
            "|                   0|af1ce6ec055c11eb9...|نهار الاربعاء الم...|  -34|sport|\n",
            "|                   1|af1ce6ec055c11eb9...|كثرة المنتخبات وك...| null| null|\n",
            "|لدينا رجاء عالمي ...|                null|                null| null| null|\n",
            "|لدينا وداد أمة لط...|                null|                null| null| null|\n",
            "|لدينا غزالة سوس ح...|                null|                null| null| null|\n",
            "+--------------------+--------------------+--------------------+-----+-----+\n",
            "only showing top 5 rows\n",
            "\n"
          ]
        }
      ]
    },
    {
      "cell_type": "markdown",
      "source": [
        "Data analysis :"
      ],
      "metadata": {
        "id": "0PgKyrSpK90x"
      }
    },
    {
      "cell_type": "code",
      "source": [
        "from pyspark.sql.functions import col"
      ],
      "metadata": {
        "id": "5lRqqvZtK3o9"
      },
      "execution_count": null,
      "outputs": []
    },
    {
      "cell_type": "code",
      "source": [
        "#counting the number of each score given\n",
        "commentDF.groupBy(\"score\").count().orderBy(col(\"count\").desc()).show()"
      ],
      "metadata": {
        "colab": {
          "base_uri": "https://localhost:8080/"
        },
        "id": "_wpvr0e1LEJE",
        "outputId": "0550fe47-4951-4a78-d464-85e7a5e71543"
      },
      "execution_count": null,
      "outputs": [
        {
          "output_type": "stream",
          "name": "stdout",
          "text": [
            "+-----+-----+\n",
            "|score|count|\n",
            "+-----+-----+\n",
            "| null| 6535|\n",
            "|    1|  316|\n",
            "|    2|  313|\n",
            "|    0|  310|\n",
            "|    3|  257|\n",
            "|    4|  228|\n",
            "|    5|  211|\n",
            "|    6|  200|\n",
            "|    7|  196|\n",
            "|   -1|  161|\n",
            "|    9|  152|\n",
            "|   11|  142|\n",
            "|    8|  139|\n",
            "|   10|  134|\n",
            "|   -2|  116|\n",
            "|   13|  108|\n",
            "|   12|   98|\n",
            "|   16|   88|\n",
            "|   -3|   88|\n",
            "|   14|   85|\n",
            "+-----+-----+\n",
            "only showing top 20 rows\n",
            "\n"
          ]
        }
      ]
    },
    {
      "cell_type": "code",
      "source": [
        "commentDF.groupBy(\"comment\").avg(\"score\").orderBy(col(\"avg(score)\")).show(10)"
      ],
      "metadata": {
        "colab": {
          "base_uri": "https://localhost:8080/"
        },
        "id": "uO2IYAf-LNnH",
        "outputId": "a8656caa-35b2-45be-bbe1-a14cf38697cc"
      },
      "execution_count": null,
      "outputs": [
        {
          "output_type": "stream",
          "name": "stdout",
          "text": [
            "+--------------------+----------+\n",
            "|             comment|avg(score)|\n",
            "+--------------------+----------+\n",
            "|لدي خطة لو تم تطب...|      null|\n",
            "|مستوى هابط جدا جد...|      null|\n",
            "|وا هانتوما ياعباد...|      null|\n",
            "|بيع مدافع ماشي مش...|      null|\n",
            "|فريال لها ماضي و ...|      null|\n",
            "|آش طلعنا من هاذ ا...|      null|\n",
            "|دبا هاد الكعبي وا...|      null|\n",
            "|تيقول المتل المغر...|      null|\n",
            "|اتعجب لبعض التعال...|      null|\n",
            "|خرج على راسو. كان...|      null|\n",
            "+--------------------+----------+\n",
            "only showing top 10 rows\n",
            "\n"
          ]
        }
      ]
    },
    {
      "cell_type": "markdown",
      "source": [
        "Data cleaning & preprocessing for Machine learning:\n",
        "\n",
        "> Bloc en retrait\n",
        "\n"
      ],
      "metadata": {
        "id": "QilaZjLRMEmp"
      }
    },
    {
      "cell_type": "code",
      "source": [
        "#select the important columns to attend our goal\n",
        "to_select = ['score', 'comment']\n",
        "df = commentDF.select(to_select)\n",
        "df.show(5)"
      ],
      "metadata": {
        "colab": {
          "base_uri": "https://localhost:8080/"
        },
        "id": "8uaj7OEKMHaA",
        "outputId": "e7f64b4e-e684-4aca-b17f-5a9e0ad79892"
      },
      "execution_count": null,
      "outputs": [
        {
          "output_type": "stream",
          "name": "stdout",
          "text": [
            "+-----+--------------------+\n",
            "|score|             comment|\n",
            "+-----+--------------------+\n",
            "|  -34|نهار الاربعاء الم...|\n",
            "| null|كثرة المنتخبات وك...|\n",
            "| null|                null|\n",
            "| null|                null|\n",
            "| null|                null|\n",
            "+-----+--------------------+\n",
            "only showing top 5 rows\n",
            "\n"
          ]
        }
      ]
    },
    {
      "cell_type": "code",
      "source": [
        "#Returns a new DataFrame omitting rows with null values.\n",
        "df = df.dropna(how='any')"
      ],
      "metadata": {
        "id": "9v66RyKKMSA6"
      },
      "execution_count": null,
      "outputs": []
    },
    {
      "cell_type": "code",
      "source": [
        "df = df.filter(df['score'] != 0)"
      ],
      "metadata": {
        "id": "9_tLifNYAnh2"
      },
      "execution_count": null,
      "outputs": []
    },
    {
      "cell_type": "code",
      "source": [
        "#Computes basic statistics for our columns.\n",
        "df.describe().show()\n"
      ],
      "metadata": {
        "colab": {
          "base_uri": "https://localhost:8080/"
        },
        "id": "_OU-U5k3MXAP",
        "outputId": "9170b518-f901-477d-9bde-25239f86feac"
      },
      "execution_count": null,
      "outputs": [
        {
          "output_type": "stream",
          "name": "stdout",
          "text": [
            "+-------+------------------+--------------------+\n",
            "|summary|             score|             comment|\n",
            "+-------+------------------+--------------------+\n",
            "|  count|              5964|                5964|\n",
            "|   mean|13.420020120724345|                null|\n",
            "| stddev| 51.64508007959286|                null|\n",
            "|    min|              -639| c’est mon dernie...|\n",
            "|    max|              1301|‏‎ ‎صوفاك معاملات...|\n",
            "+-------+------------------+--------------------+\n",
            "\n"
          ]
        }
      ]
    },
    {
      "cell_type": "code",
      "source": [
        "#data type\n",
        "df.dtypes"
      ],
      "metadata": {
        "colab": {
          "base_uri": "https://localhost:8080/"
        },
        "id": "bcDxsQpUMkt7",
        "outputId": "de070b8a-8082-4041-e865-1bc7aaa08b6c"
      },
      "execution_count": null,
      "outputs": [
        {
          "output_type": "execute_result",
          "data": {
            "text/plain": [
              "[('score', 'int'), ('comment', 'string')]"
            ]
          },
          "metadata": {},
          "execution_count": 35
        }
      ]
    },
    {
      "cell_type": "code",
      "source": [
        "def convert(x):\n",
        "    if x > 0:\n",
        "        return 'Good'\n",
        "    else:\n",
        "        return 'Bad'"
      ],
      "metadata": {
        "id": "LtnSt7coMy0W"
      },
      "execution_count": null,
      "outputs": []
    },
    {
      "cell_type": "code",
      "source": [
        "from pyspark.sql.types import *\n"
      ],
      "metadata": {
        "id": "YKYo1MhKM4tR"
      },
      "execution_count": null,
      "outputs": []
    },
    {
      "cell_type": "code",
      "source": [
        "from pyspark.sql.functions import pandas_udf, PandasUDFType\n"
      ],
      "metadata": {
        "id": "_SbuZX-9OQVH"
      },
      "execution_count": null,
      "outputs": []
    },
    {
      "cell_type": "code",
      "source": [
        "from pyspark.sql.functions import udf\n",
        "#defining fuction that needs to register in the database library and use it on SQL as regular functions.\n",
        "udfConvert = udf(convert, StringType())"
      ],
      "metadata": {
        "id": "txuacNZtORRe"
      },
      "execution_count": null,
      "outputs": []
    },
    {
      "cell_type": "code",
      "source": [
        "#creating of a new column \"Sentiment\"\n",
        "df2 = df.withColumn(\"Sentiment\", udfConvert('score'))"
      ],
      "metadata": {
        "id": "6TkIW7LIOT6R"
      },
      "execution_count": null,
      "outputs": []
    },
    {
      "cell_type": "code",
      "source": [
        "#prints the new schema\n",
        "df2.printSchema()"
      ],
      "metadata": {
        "colab": {
          "base_uri": "https://localhost:8080/"
        },
        "id": "JLDK4DICOYEo",
        "outputId": "3c4b5f46-7f93-463e-cc9d-4c804f1bde44"
      },
      "execution_count": null,
      "outputs": [
        {
          "output_type": "stream",
          "name": "stdout",
          "text": [
            "root\n",
            " |-- score: integer (nullable = true)\n",
            " |-- comment: string (nullable = true)\n",
            " |-- Sentiment: string (nullable = true)\n",
            "\n"
          ]
        }
      ]
    },
    {
      "cell_type": "code",
      "source": [
        "#show the new dataframe\n",
        "df2.show()"
      ],
      "metadata": {
        "colab": {
          "base_uri": "https://localhost:8080/"
        },
        "id": "CgbCok4AOZtx",
        "outputId": "f959c33b-d120-4f07-b353-d5cc849a5af4"
      },
      "execution_count": null,
      "outputs": [
        {
          "output_type": "stream",
          "name": "stdout",
          "text": [
            "+-----+--------------------+---------+\n",
            "|score|             comment|Sentiment|\n",
            "+-----+--------------------+---------+\n",
            "|  -34|نهار الاربعاء الم...|      Bad|\n",
            "|   16|احيي الاخ طاطا عل...|     Good|\n",
            "|   17|منتخبات بمدربين و...|     Good|\n",
            "|   -1|و ماذا عن منير ال...|      Bad|\n",
            "|    4|شكرا على هذه المب...|     Good|\n",
            "|   -2|السلام عليكم ورحم...|      Bad|\n",
            "|   66|حمل القميص الوطني...|     Good|\n",
            "| -120|هناك اسباب لا تري...|      Bad|\n",
            "|  122|منتخب برواتب خيال...|     Good|\n",
            "|   -5|لماذا كل هدا الحق...|      Bad|\n",
            "|  -25|اصلا هذاك اللاعب ...|      Bad|\n",
            "|   16|لا خير يرجى في من...|     Good|\n",
            "|   30|المهم هو التركيز ...|     Good|\n",
            "|   28|الحمدالله في الفط...|     Good|\n",
            "|   12|والله الا دارو شي...|     Good|\n",
            "|  -23|حمد الله لاعب كبي...|      Bad|\n",
            "|    5|Hamdallah est seu...|     Good|\n",
            "|   -8|غريب أمر هذا المد...|      Bad|\n",
            "|  -16|حمد الله لاعب كبي...|      Bad|\n",
            "|   12|لا اظن ان اللاعب ...|     Good|\n",
            "+-----+--------------------+---------+\n",
            "only showing top 20 rows\n",
            "\n"
          ]
        }
      ]
    },
    {
      "cell_type": "code",
      "source": [
        "from pyspark.ml.feature import RegexTokenizer, StopWordsRemover, CountVectorizer\n",
        "# tokenizer\n",
        "tokenizer = RegexTokenizer(inputCol=\"comment\", outputCol=\"words\")\n",
        "# stop words remover\n",
        "swRemover = StopWordsRemover(inputCol=\"words\", outputCol=\"filtered\")\n",
        "# bag of words count\n",
        "countVectors = CountVectorizer(inputCol=\"filtered\", outputCol=\"features\",\n",
        "                              vocabSize=10000, minDF=5)"
      ],
      "metadata": {
        "id": "bQzfaJrnOdZT"
      },
      "execution_count": null,
      "outputs": []
    },
    {
      "cell_type": "code",
      "source": [
        "from pyspark.ml import Pipeline\n",
        "from pyspark.ml.feature import StringIndexer\n",
        "pipeline = Pipeline(stages=[tokenizer, swRemover, countVectors])\n",
        "# Fit the pipeline to data\n",
        "pipelineFit = pipeline.fit(df2)\n",
        "data = pipelineFit.transform(df2)\n",
        "data.show(5)"
      ],
      "metadata": {
        "colab": {
          "base_uri": "https://localhost:8080/"
        },
        "id": "YXTqgAalOm7Z",
        "outputId": "2eccbd04-a3c4-4736-9fd4-b7bf3175cb1d"
      },
      "execution_count": null,
      "outputs": [
        {
          "output_type": "stream",
          "name": "stdout",
          "text": [
            "+-----+--------------------+---------+--------------------+--------------------+--------------------+\n",
            "|score|             comment|Sentiment|               words|            filtered|            features|\n",
            "+-----+--------------------+---------+--------------------+--------------------+--------------------+\n",
            "|  -34|نهار الاربعاء الم...|      Bad|[نهار, الاربعاء, ...|[نهار, الاربعاء, ...|(5113,[1,3,5,11,1...|\n",
            "|   16|احيي الاخ طاطا عل...|     Good|[احيي, الاخ, طاطا...|[احيي, الاخ, طاطا...|(5113,[1,2,3,4,15...|\n",
            "|   17|منتخبات بمدربين و...|     Good|[منتخبات, بمدربين...|[منتخبات, بمدربين...|(5113,[2,3,17,65,...|\n",
            "|   -1|و ماذا عن منير ال...|      Bad|[و, ماذا, عن, مني...|[و, ماذا, عن, مني...|(5113,[2,3,4,8,11...|\n",
            "|    4|شكرا على هذه المب...|     Good|[شكرا, على, هذه, ...|[شكرا, على, هذه, ...|(5113,[1,2,3,15,3...|\n",
            "+-----+--------------------+---------+--------------------+--------------------+--------------------+\n",
            "only showing top 5 rows\n",
            "\n"
          ]
        }
      ]
    },
    {
      "cell_type": "code",
      "source": [
        "#counting our data\n",
        "data.count()"
      ],
      "metadata": {
        "colab": {
          "base_uri": "https://localhost:8080/"
        },
        "id": "_69Gi_xkO__O",
        "outputId": "c8dd340f-6d32-43dc-a819-6a95af3b44f1"
      },
      "execution_count": null,
      "outputs": [
        {
          "output_type": "execute_result",
          "data": {
            "text/plain": [
              "5964"
            ]
          },
          "metadata": {},
          "execution_count": 49
        }
      ]
    },
    {
      "cell_type": "code",
      "source": [
        "#counting the data with good sentiment\n",
        "data.filter(data['Sentiment']=='Good').count()"
      ],
      "metadata": {
        "colab": {
          "base_uri": "https://localhost:8080/"
        },
        "id": "q1Ul3r_tPD1J",
        "outputId": "6c6a9428-2475-4b76-8e45-7d429ef5c306"
      },
      "execution_count": null,
      "outputs": [
        {
          "output_type": "execute_result",
          "data": {
            "text/plain": [
              "4546"
            ]
          },
          "metadata": {},
          "execution_count": 50
        }
      ]
    },
    {
      "cell_type": "code",
      "source": [
        "4546/5964\n"
      ],
      "metadata": {
        "colab": {
          "base_uri": "https://localhost:8080/"
        },
        "id": "pGDQvjaFPD4b",
        "outputId": "3b0d0a8d-5a78-4671-991e-0d7f93e3564d"
      },
      "execution_count": null,
      "outputs": [
        {
          "output_type": "execute_result",
          "data": {
            "text/plain": [
              "0.7622401073105298"
            ]
          },
          "metadata": {},
          "execution_count": 54
        }
      ]
    },
    {
      "cell_type": "markdown",
      "source": [
        "so the majority of the data are positive . About 76% of scores are good ones.\n",
        "\n"
      ],
      "metadata": {
        "id": "KHWTJH_zPN80"
      }
    },
    {
      "cell_type": "code",
      "source": [
        "data2 = data.select(['Sentiment', 'features'])\n",
        "data2.show(5)"
      ],
      "metadata": {
        "colab": {
          "base_uri": "https://localhost:8080/"
        },
        "id": "b4nXXM4qPEER",
        "outputId": "594bca35-7c18-4dc4-de1e-6ccc5ba96f72"
      },
      "execution_count": null,
      "outputs": [
        {
          "output_type": "stream",
          "name": "stdout",
          "text": [
            "+---------+--------------------+\n",
            "|Sentiment|            features|\n",
            "+---------+--------------------+\n",
            "|      Bad|(5113,[1,3,5,11,1...|\n",
            "|     Good|(5113,[1,2,3,4,15...|\n",
            "|     Good|(5113,[2,3,17,65,...|\n",
            "|      Bad|(5113,[2,3,4,8,11...|\n",
            "|     Good|(5113,[1,2,3,15,3...|\n",
            "+---------+--------------------+\n",
            "only showing top 5 rows\n",
            "\n"
          ]
        }
      ]
    },
    {
      "cell_type": "code",
      "source": [
        "def convertNum(x):\n",
        "    if x == 'Good':\n",
        "        return 0\n",
        "    else:\n",
        "        return 1"
      ],
      "metadata": {
        "id": "R2HQpUXlPXcb"
      },
      "execution_count": null,
      "outputs": []
    },
    {
      "cell_type": "code",
      "source": [
        "udfConvertNum = udf(convertNum, IntegerType())\n",
        "#add new column label generated by the function convertNum\n",
        "data3 = data2.withColumn(\"label\", udfConvertNum('Sentiment'))"
      ],
      "metadata": {
        "id": "lJNhg-YbPcE9"
      },
      "execution_count": null,
      "outputs": []
    },
    {
      "cell_type": "code",
      "source": [
        "data3.count()\n"
      ],
      "metadata": {
        "colab": {
          "base_uri": "https://localhost:8080/"
        },
        "id": "6BkQ112fPgUP",
        "outputId": "31fbe9b2-080a-4b67-f3b7-9614db6551b4"
      },
      "execution_count": null,
      "outputs": [
        {
          "output_type": "execute_result",
          "data": {
            "text/plain": [
              "5964"
            ]
          },
          "metadata": {},
          "execution_count": 60
        }
      ]
    },
    {
      "cell_type": "code",
      "source": [
        "from pyspark.sql.functions import *\n"
      ],
      "metadata": {
        "id": "3DIfFafrPiew"
      },
      "execution_count": null,
      "outputs": []
    },
    {
      "cell_type": "code",
      "source": [
        "#specify the number of train data\n",
        "train = data3.limit(5000)\n"
      ],
      "metadata": {
        "id": "BFpVQN00ZphF"
      },
      "execution_count": null,
      "outputs": []
    },
    {
      "cell_type": "code",
      "source": [
        "#save the rest as test data\n",
        "test = data3.subtract(train)\n"
      ],
      "metadata": {
        "id": "tThkQo-pZ0Iq"
      },
      "execution_count": null,
      "outputs": []
    },
    {
      "cell_type": "markdown",
      "source": [
        "Machine Learning :\n",
        "Logistic Regression\n"
      ],
      "metadata": {
        "id": "XeLOflIWZ7S4"
      }
    },
    {
      "cell_type": "code",
      "source": [
        "from pyspark.ml.classification import LogisticRegression\n",
        "\n",
        "# Create initial LogisticRegression model, only use features as input\n",
        "lr = LogisticRegression(labelCol=\"label\", featuresCol=\"features\", maxIter=10)\n",
        "\n",
        "# Train model with Training Data\n",
        "lrModel = lr.fit(train)"
      ],
      "metadata": {
        "id": "zknVoZLQZ5Ir"
      },
      "execution_count": null,
      "outputs": []
    },
    {
      "cell_type": "code",
      "source": [
        "# Make predictions on test data using the transform() method.\n",
        "# LogisticRegression.transform() will only use the 'features' column.\n",
        "predictions = lrModel.transform(test)"
      ],
      "metadata": {
        "id": "qWq_x1zLaC1B"
      },
      "execution_count": null,
      "outputs": []
    },
    {
      "cell_type": "code",
      "source": [
        "selected = predictions.select(\"label\", \"prediction\", \"probability\")\n",
        "display(selected)"
      ],
      "metadata": {
        "colab": {
          "base_uri": "https://localhost:8080/",
          "height": 34
        },
        "id": "tfAfq7s3aG-9",
        "outputId": "39006e77-3044-4615-ca16-2344dcecf2be"
      },
      "execution_count": null,
      "outputs": [
        {
          "output_type": "display_data",
          "data": {
            "text/plain": [
              "DataFrame[label: int, prediction: double, probability: vector]"
            ]
          },
          "metadata": {}
        }
      ]
    },
    {
      "cell_type": "code",
      "source": [
        "from pyspark.ml.evaluation import BinaryClassificationEvaluator\n",
        "\n",
        "# Evaluate model\n",
        "evaluator = BinaryClassificationEvaluator(rawPredictionCol=\"rawPrediction\")\n",
        "evaluator.evaluate(predictions)"
      ],
      "metadata": {
        "colab": {
          "base_uri": "https://localhost:8080/"
        },
        "id": "yKioqs0YaKRm",
        "outputId": "f12999b1-1db9-42ff-fce4-77755c91f8cc"
      },
      "execution_count": null,
      "outputs": [
        {
          "output_type": "execute_result",
          "data": {
            "text/plain": [
              "0.5506788333887802"
            ]
          },
          "metadata": {},
          "execution_count": 69
        }
      ]
    },
    {
      "cell_type": "markdown",
      "source": [
        "Diagnostics & Model improvement :\n",
        "Logistic Regression Grid Search Cross Validation :\n",
        "\n"
      ],
      "metadata": {
        "id": "NRAyWim7a6HL"
      }
    },
    {
      "cell_type": "code",
      "source": [
        "from pyspark.ml.tuning import ParamGridBuilder, CrossValidator\n",
        "\n",
        "# Create ParamGrid for Cross Validation\n",
        "paramGrid = (ParamGridBuilder()\n",
        "             .addGrid(lr.regParam, [0.01, 0.5, 2.0])\n",
        "             .addGrid(lr.elasticNetParam, [0.0, 0.5, 1.0])\n",
        "             .addGrid(lr.maxIter, [1, 5, 10])\n",
        "             .build())"
      ],
      "metadata": {
        "id": "MeSEO_yzaxvJ"
      },
      "execution_count": null,
      "outputs": []
    },
    {
      "cell_type": "code",
      "source": [
        "# Create 5-fold CrossValidator\n",
        "cv = CrossValidator(estimator=lr, estimatorParamMaps=paramGrid, evaluator=evaluator, numFolds=5)\n",
        "\n",
        "# Run cross validations\n",
        "cvModel = cv.fit(train)"
      ],
      "metadata": {
        "id": "TQ0CmO5na-fv"
      },
      "execution_count": null,
      "outputs": []
    },
    {
      "cell_type": "code",
      "source": [
        "# Use test set to measure the accuracy of our model on new data\n",
        "predictions2 = cvModel.transform(test)"
      ],
      "metadata": {
        "id": "FanfvanVax0o"
      },
      "execution_count": null,
      "outputs": []
    },
    {
      "cell_type": "code",
      "source": [
        "# cvModel uses the best model found from the Cross Validation\n",
        "# Evaluate best model\n",
        "evaluator.evaluate(predictions2)"
      ],
      "metadata": {
        "colab": {
          "base_uri": "https://localhost:8080/"
        },
        "id": "_bm3gC59cyFn",
        "outputId": "117d4e15-991b-4fd9-bf2b-74e4a5976b7d"
      },
      "execution_count": null,
      "outputs": [
        {
          "output_type": "execute_result",
          "data": {
            "text/plain": [
              "0.5720696101262619"
            ]
          },
          "metadata": {},
          "execution_count": 73
        }
      ]
    }
  ]
}